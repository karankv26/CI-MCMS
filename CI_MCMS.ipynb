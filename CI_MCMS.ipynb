{
  "nbformat": 4,
  "nbformat_minor": 0,
  "metadata": {
    "colab": {
      "name": "CI-MCMS.ipynb",
      "provenance": [],
      "collapsed_sections": []
    },
    "kernelspec": {
      "display_name": "Python 3",
      "language": "python",
      "name": "python3"
    },
    "language_info": {
      "codemirror_mode": {
        "name": "ipython",
        "version": 3
      },
      "file_extension": ".py",
      "mimetype": "text/x-python",
      "name": "python",
      "nbconvert_exporter": "python",
      "pygments_lexer": "ipython3",
      "version": "3.8.5"
    }
  },
  "cells": [
    {
      "cell_type": "code",
      "metadata": {
        "id": "IyyrDsBnsdaE"
      },
      "source": [
        "import pandas as pd\n",
        "import numpy as np\n",
        "import matplotlib.pyplot as plt\n",
        "import seaborn as sns\n",
        "%matplotlib inline"
      ],
      "execution_count": 1,
      "outputs": []
    },
    {
      "cell_type": "code",
      "metadata": {
        "id": "0t-w2yWjstE7"
      },
      "source": [
        "df=pd.read_csv(\"/content/FullData - Main DF.csv\")"
      ],
      "execution_count": 2,
      "outputs": []
    },
    {
      "cell_type": "code",
      "metadata": {
        "colab": {
          "base_uri": "https://localhost:8080/",
          "height": 222
        },
        "id": "ccIjqz5iF9CY",
        "outputId": "5e9b51e2-2362-44a4-b0c5-d3a086952773"
      },
      "source": [
        "df.head()"
      ],
      "execution_count": 3,
      "outputs": [
        {
          "output_type": "execute_result",
          "data": {
            "text/html": [
              "<div>\n",
              "<style scoped>\n",
              "    .dataframe tbody tr th:only-of-type {\n",
              "        vertical-align: middle;\n",
              "    }\n",
              "\n",
              "    .dataframe tbody tr th {\n",
              "        vertical-align: top;\n",
              "    }\n",
              "\n",
              "    .dataframe thead th {\n",
              "        text-align: right;\n",
              "    }\n",
              "</style>\n",
              "<table border=\"1\" class=\"dataframe\">\n",
              "  <thead>\n",
              "    <tr style=\"text-align: right;\">\n",
              "      <th></th>\n",
              "      <th>CE</th>\n",
              "      <th>PS1</th>\n",
              "      <th>PS2</th>\n",
              "      <th>PS3</th>\n",
              "      <th>PS5</th>\n",
              "      <th>PS6</th>\n",
              "      <th>EPS1</th>\n",
              "      <th>FS1</th>\n",
              "      <th>FS2</th>\n",
              "      <th>TS1</th>\n",
              "      <th>TS2</th>\n",
              "      <th>TS3</th>\n",
              "      <th>TS4</th>\n",
              "      <th>VS1</th>\n",
              "      <th>SE</th>\n",
              "      <th>CP</th>\n",
              "      <th>CoolerCondition</th>\n",
              "      <th>ValveCondition</th>\n",
              "      <th>InternalPumpLeakage</th>\n",
              "      <th>Hydraulic</th>\n",
              "      <th>StableFlag</th>\n",
              "    </tr>\n",
              "  </thead>\n",
              "  <tbody>\n",
              "    <tr>\n",
              "      <th>0</th>\n",
              "      <td>39.601350</td>\n",
              "      <td>160.673492</td>\n",
              "      <td>109.466914</td>\n",
              "      <td>1.991475</td>\n",
              "      <td>9.842170</td>\n",
              "      <td>9.728098</td>\n",
              "      <td>2538.929167</td>\n",
              "      <td>6.709815</td>\n",
              "      <td>10.304592</td>\n",
              "      <td>35.621983</td>\n",
              "      <td>40.978767</td>\n",
              "      <td>38.471017</td>\n",
              "      <td>31.745250</td>\n",
              "      <td>0.576950</td>\n",
              "      <td>59.157183</td>\n",
              "      <td>1.862750</td>\n",
              "      <td>0</td>\n",
              "      <td>3</td>\n",
              "      <td>0</td>\n",
              "      <td>3</td>\n",
              "      <td>1</td>\n",
              "    </tr>\n",
              "    <tr>\n",
              "      <th>1</th>\n",
              "      <td>25.786433</td>\n",
              "      <td>160.603320</td>\n",
              "      <td>109.354890</td>\n",
              "      <td>1.976234</td>\n",
              "      <td>9.635142</td>\n",
              "      <td>9.529488</td>\n",
              "      <td>2531.498900</td>\n",
              "      <td>6.715315</td>\n",
              "      <td>10.403098</td>\n",
              "      <td>36.676967</td>\n",
              "      <td>41.532767</td>\n",
              "      <td>38.978967</td>\n",
              "      <td>34.493867</td>\n",
              "      <td>0.565850</td>\n",
              "      <td>59.335617</td>\n",
              "      <td>1.255550</td>\n",
              "      <td>0</td>\n",
              "      <td>3</td>\n",
              "      <td>0</td>\n",
              "      <td>3</td>\n",
              "      <td>1</td>\n",
              "    </tr>\n",
              "    <tr>\n",
              "      <th>2</th>\n",
              "      <td>22.218233</td>\n",
              "      <td>160.347720</td>\n",
              "      <td>109.158845</td>\n",
              "      <td>1.972224</td>\n",
              "      <td>9.530548</td>\n",
              "      <td>9.427949</td>\n",
              "      <td>2519.928000</td>\n",
              "      <td>6.718522</td>\n",
              "      <td>10.366250</td>\n",
              "      <td>37.880800</td>\n",
              "      <td>42.442450</td>\n",
              "      <td>39.631950</td>\n",
              "      <td>35.646150</td>\n",
              "      <td>0.576533</td>\n",
              "      <td>59.543150</td>\n",
              "      <td>1.113217</td>\n",
              "      <td>0</td>\n",
              "      <td>3</td>\n",
              "      <td>0</td>\n",
              "      <td>3</td>\n",
              "      <td>1</td>\n",
              "    </tr>\n",
              "    <tr>\n",
              "      <th>3</th>\n",
              "      <td>20.459817</td>\n",
              "      <td>160.188088</td>\n",
              "      <td>109.064807</td>\n",
              "      <td>1.946576</td>\n",
              "      <td>9.438827</td>\n",
              "      <td>9.337429</td>\n",
              "      <td>2511.541633</td>\n",
              "      <td>6.720565</td>\n",
              "      <td>10.302678</td>\n",
              "      <td>38.879050</td>\n",
              "      <td>43.403983</td>\n",
              "      <td>40.403383</td>\n",
              "      <td>36.579467</td>\n",
              "      <td>0.569267</td>\n",
              "      <td>59.794900</td>\n",
              "      <td>1.062150</td>\n",
              "      <td>0</td>\n",
              "      <td>3</td>\n",
              "      <td>0</td>\n",
              "      <td>3</td>\n",
              "      <td>1</td>\n",
              "    </tr>\n",
              "    <tr>\n",
              "      <th>4</th>\n",
              "      <td>19.787017</td>\n",
              "      <td>160.000472</td>\n",
              "      <td>108.931434</td>\n",
              "      <td>1.922707</td>\n",
              "      <td>9.358762</td>\n",
              "      <td>9.260636</td>\n",
              "      <td>2503.449500</td>\n",
              "      <td>6.690308</td>\n",
              "      <td>10.237750</td>\n",
              "      <td>39.803917</td>\n",
              "      <td>44.332750</td>\n",
              "      <td>41.310550</td>\n",
              "      <td>37.427900</td>\n",
              "      <td>0.577367</td>\n",
              "      <td>59.455267</td>\n",
              "      <td>1.070467</td>\n",
              "      <td>0</td>\n",
              "      <td>3</td>\n",
              "      <td>0</td>\n",
              "      <td>3</td>\n",
              "      <td>1</td>\n",
              "    </tr>\n",
              "  </tbody>\n",
              "</table>\n",
              "</div>"
            ],
            "text/plain": [
              "          CE         PS1  ...  Hydraulic  StableFlag\n",
              "0  39.601350  160.673492  ...          3           1\n",
              "1  25.786433  160.603320  ...          3           1\n",
              "2  22.218233  160.347720  ...          3           1\n",
              "3  20.459817  160.188088  ...          3           1\n",
              "4  19.787017  160.000472  ...          3           1\n",
              "\n",
              "[5 rows x 21 columns]"
            ]
          },
          "metadata": {
            "tags": []
          },
          "execution_count": 3
        }
      ]
    },
    {
      "cell_type": "code",
      "metadata": {
        "colab": {
          "base_uri": "https://localhost:8080/"
        },
        "id": "8xotS88rIXO5",
        "outputId": "b5608895-4810-4af3-9007-d399b7cccadd"
      },
      "source": [
        "df.shape"
      ],
      "execution_count": 5,
      "outputs": [
        {
          "output_type": "execute_result",
          "data": {
            "text/plain": [
              "(2205, 21)"
            ]
          },
          "metadata": {
            "tags": []
          },
          "execution_count": 5
        }
      ]
    },
    {
      "cell_type": "code",
      "metadata": {
        "colab": {
          "base_uri": "https://localhost:8080/"
        },
        "id": "KjtoC1MLGGVS",
        "outputId": "9483cefe-b21c-400e-cd85-780bce3948cd"
      },
      "source": [
        "df.columns"
      ],
      "execution_count": 4,
      "outputs": [
        {
          "output_type": "execute_result",
          "data": {
            "text/plain": [
              "Index(['CE', 'PS1', 'PS2', 'PS3', 'PS5', 'PS6', 'EPS1', 'FS1', 'FS2', 'TS1',\n",
              "       'TS2', 'TS3', 'TS4', 'VS1', 'SE', 'CP', 'CoolerCondition',\n",
              "       'ValveCondition', 'InternalPumpLeakage', 'Hydraulic', 'StableFlag'],\n",
              "      dtype='object')"
            ]
          },
          "metadata": {
            "tags": []
          },
          "execution_count": 4
        }
      ]
    },
    {
      "cell_type": "code",
      "metadata": {
        "colab": {
          "base_uri": "https://localhost:8080/"
        },
        "id": "8cc8UClrIicq",
        "outputId": "7297064d-b6f2-4215-8641-32e5416eab1a"
      },
      "source": [
        "df.info()"
      ],
      "execution_count": 7,
      "outputs": [
        {
          "output_type": "stream",
          "text": [
            "<class 'pandas.core.frame.DataFrame'>\n",
            "RangeIndex: 2205 entries, 0 to 2204\n",
            "Data columns (total 21 columns):\n",
            " #   Column               Non-Null Count  Dtype  \n",
            "---  ------               --------------  -----  \n",
            " 0   CE                   2205 non-null   float64\n",
            " 1   PS1                  2205 non-null   float64\n",
            " 2   PS2                  2205 non-null   float64\n",
            " 3   PS3                  2205 non-null   float64\n",
            " 4   PS5                  2205 non-null   float64\n",
            " 5   PS6                  2205 non-null   float64\n",
            " 6   EPS1                 2205 non-null   float64\n",
            " 7   FS1                  2205 non-null   float64\n",
            " 8   FS2                  2205 non-null   float64\n",
            " 9   TS1                  2205 non-null   float64\n",
            " 10  TS2                  2205 non-null   float64\n",
            " 11  TS3                  2205 non-null   float64\n",
            " 12  TS4                  2205 non-null   float64\n",
            " 13  VS1                  2205 non-null   float64\n",
            " 14  SE                   2205 non-null   float64\n",
            " 15  CP                   2205 non-null   float64\n",
            " 16  CoolerCondition      2205 non-null   int64  \n",
            " 17  ValveCondition       2205 non-null   int64  \n",
            " 18  InternalPumpLeakage  2205 non-null   int64  \n",
            " 19  Hydraulic            2205 non-null   int64  \n",
            " 20  StableFlag           2205 non-null   int64  \n",
            "dtypes: float64(16), int64(5)\n",
            "memory usage: 361.9 KB\n"
          ],
          "name": "stdout"
        }
      ]
    },
    {
      "cell_type": "code",
      "metadata": {
        "colab": {
          "base_uri": "https://localhost:8080/"
        },
        "id": "qUQTYoQ-Grto",
        "outputId": "f6fc7a05-867f-4ecb-8245-b8d1d9114612"
      },
      "source": [
        "df.dtypes[df.dtypes==\"object\"]"
      ],
      "execution_count": 6,
      "outputs": [
        {
          "output_type": "execute_result",
          "data": {
            "text/plain": [
              "Series([], dtype: object)"
            ]
          },
          "metadata": {
            "tags": []
          },
          "execution_count": 6
        }
      ]
    },
    {
      "cell_type": "code",
      "metadata": {
        "id": "18RVwtf3svAQ"
      },
      "source": [
        "df=df.drop_duplicates() #to remove duplicates"
      ],
      "execution_count": 8,
      "outputs": []
    },
    {
      "cell_type": "code",
      "metadata": {
        "colab": {
          "base_uri": "https://localhost:8080/"
        },
        "id": "YmGHeKFTIwMw",
        "outputId": "2548a594-ccbb-482e-b022-f8fcf4668aed"
      },
      "source": [
        "df.isnull().sum()"
      ],
      "execution_count": 9,
      "outputs": [
        {
          "output_type": "execute_result",
          "data": {
            "text/plain": [
              "CE                     0\n",
              "PS1                    0\n",
              "PS2                    0\n",
              "PS3                    0\n",
              "PS5                    0\n",
              "PS6                    0\n",
              "EPS1                   0\n",
              "FS1                    0\n",
              "FS2                    0\n",
              "TS1                    0\n",
              "TS2                    0\n",
              "TS3                    0\n",
              "TS4                    0\n",
              "VS1                    0\n",
              "SE                     0\n",
              "CP                     0\n",
              "CoolerCondition        0\n",
              "ValveCondition         0\n",
              "InternalPumpLeakage    0\n",
              "Hydraulic              0\n",
              "StableFlag             0\n",
              "dtype: int64"
            ]
          },
          "metadata": {
            "tags": []
          },
          "execution_count": 9
        }
      ]
    },
    {
      "cell_type": "code",
      "metadata": {
        "id": "-aXYGVX7Lojf"
      },
      "source": [
        "x=df[[\"CE\",\"PS1\",\"PS2\",\"PS3\",\"PS5\",\"PS6\",\"EPS1\",\"FS1\",\"FS2\",\"TS1\",\"TS2\",\"TS3\",\"TS4\",\"VS1\",\"SE\",\"CP\"]]\n",
        "y=df[[\"InternalPumpLeakage\"]]"
      ],
      "execution_count": 15,
      "outputs": []
    },
    {
      "cell_type": "code",
      "metadata": {
        "colab": {
          "base_uri": "https://localhost:8080/",
          "height": 934
        },
        "id": "eZvLSN2OMnpy",
        "outputId": "36507aa6-e796-4e17-fd33-7214abf367b6"
      },
      "source": [
        "df.hist(figsize=(16,16),bins=10)\n",
        "plt.show()"
      ],
      "execution_count": 16,
      "outputs": [
        {
          "output_type": "display_data",
          "data": {
            "image/png": "[encoded data removed]",
            "text/plain": [
              "<Figure size 1152x1152 with 25 Axes>"
            ]
          },
          "metadata": {
            "tags": [],
            "needs_background": "light"
          }
        }
      ]
    },
    {
      "cell_type": "code",
      "metadata": {
        "colab": {
          "base_uri": "https://localhost:8080/",
          "height": 414
        },
        "id": "_jdR00qTJEdw",
        "outputId": "70f8b1b2-d590-4316-bc49-e5ca5d350aaf"
      },
      "source": [
        "x"
      ],
      "execution_count": 17,
      "outputs": [
        {
          "output_type": "execute_result",
          "data": {
            "text/html": [
              "<div>\n",
              "<style scoped>\n",
              "    .dataframe tbody tr th:only-of-type {\n",
              "        vertical-align: middle;\n",
              "    }\n",
              "\n",
              "    .dataframe tbody tr th {\n",
              "        vertical-align: top;\n",
              "    }\n",
              "\n",
              "    .dataframe thead th {\n",
              "        text-align: right;\n",
              "    }\n",
              "</style>\n",
              "<table border=\"1\" class=\"dataframe\">\n",
              "  <thead>\n",
              "    <tr style=\"text-align: right;\">\n",
              "      <th></th>\n",
              "      <th>CE</th>\n",
              "      <th>PS1</th>\n",
              "      <th>PS2</th>\n",
              "      <th>PS3</th>\n",
              "      <th>PS5</th>\n",
              "      <th>PS6</th>\n",
              "      <th>EPS1</th>\n",
              "      <th>FS1</th>\n",
              "      <th>FS2</th>\n",
              "      <th>TS1</th>\n",
              "      <th>TS2</th>\n",
              "      <th>TS3</th>\n",
              "      <th>TS4</th>\n",
              "      <th>VS1</th>\n",
              "      <th>SE</th>\n",
              "      <th>CP</th>\n",
              "    </tr>\n",
              "  </thead>\n",
              "  <tbody>\n",
              "    <tr>\n",
              "      <th>0</th>\n",
              "      <td>39.601350</td>\n",
              "      <td>160.673492</td>\n",
              "      <td>109.466914</td>\n",
              "      <td>1.991475</td>\n",
              "      <td>9.842170</td>\n",
              "      <td>9.728098</td>\n",
              "      <td>2538.929167</td>\n",
              "      <td>6.709815</td>\n",
              "      <td>10.304592</td>\n",
              "      <td>35.621983</td>\n",
              "      <td>40.978767</td>\n",
              "      <td>38.471017</td>\n",
              "      <td>31.745250</td>\n",
              "      <td>0.576950</td>\n",
              "      <td>59.157183</td>\n",
              "      <td>1.862750</td>\n",
              "    </tr>\n",
              "    <tr>\n",
              "      <th>1</th>\n",
              "      <td>25.786433</td>\n",
              "      <td>160.603320</td>\n",
              "      <td>109.354890</td>\n",
              "      <td>1.976234</td>\n",
              "      <td>9.635142</td>\n",
              "      <td>9.529488</td>\n",
              "      <td>2531.498900</td>\n",
              "      <td>6.715315</td>\n",
              "      <td>10.403098</td>\n",
              "      <td>36.676967</td>\n",
              "      <td>41.532767</td>\n",
              "      <td>38.978967</td>\n",
              "      <td>34.493867</td>\n",
              "      <td>0.565850</td>\n",
              "      <td>59.335617</td>\n",
              "      <td>1.255550</td>\n",
              "    </tr>\n",
              "    <tr>\n",
              "      <th>2</th>\n",
              "      <td>22.218233</td>\n",
              "      <td>160.347720</td>\n",
              "      <td>109.158845</td>\n",
              "      <td>1.972224</td>\n",
              "      <td>9.530548</td>\n",
              "      <td>9.427949</td>\n",
              "      <td>2519.928000</td>\n",
              "      <td>6.718522</td>\n",
              "      <td>10.366250</td>\n",
              "      <td>37.880800</td>\n",
              "      <td>42.442450</td>\n",
              "      <td>39.631950</td>\n",
              "      <td>35.646150</td>\n",
              "      <td>0.576533</td>\n",
              "      <td>59.543150</td>\n",
              "      <td>1.113217</td>\n",
              "    </tr>\n",
              "    <tr>\n",
              "      <th>3</th>\n",
              "      <td>20.459817</td>\n",
              "      <td>160.188088</td>\n",
              "      <td>109.064807</td>\n",
              "      <td>1.946576</td>\n",
              "      <td>9.438827</td>\n",
              "      <td>9.337429</td>\n",
              "      <td>2511.541633</td>\n",
              "      <td>6.720565</td>\n",
              "      <td>10.302678</td>\n",
              "      <td>38.879050</td>\n",
              "      <td>43.403983</td>\n",
              "      <td>40.403383</td>\n",
              "      <td>36.579467</td>\n",
              "      <td>0.569267</td>\n",
              "      <td>59.794900</td>\n",
              "      <td>1.062150</td>\n",
              "    </tr>\n",
              "    <tr>\n",
              "      <th>4</th>\n",
              "      <td>19.787017</td>\n",
              "      <td>160.000472</td>\n",
              "      <td>108.931434</td>\n",
              "      <td>1.922707</td>\n",
              "      <td>9.358762</td>\n",
              "      <td>9.260636</td>\n",
              "      <td>2503.449500</td>\n",
              "      <td>6.690308</td>\n",
              "      <td>10.237750</td>\n",
              "      <td>39.803917</td>\n",
              "      <td>44.332750</td>\n",
              "      <td>41.310550</td>\n",
              "      <td>37.427900</td>\n",
              "      <td>0.577367</td>\n",
              "      <td>59.455267</td>\n",
              "      <td>1.070467</td>\n",
              "    </tr>\n",
              "    <tr>\n",
              "      <th>...</th>\n",
              "      <td>...</td>\n",
              "      <td>...</td>\n",
              "      <td>...</td>\n",
              "      <td>...</td>\n",
              "      <td>...</td>\n",
              "      <td>...</td>\n",
              "      <td>...</td>\n",
              "      <td>...</td>\n",
              "      <td>...</td>\n",
              "      <td>...</td>\n",
              "      <td>...</td>\n",
              "      <td>...</td>\n",
              "      <td>...</td>\n",
              "      <td>...</td>\n",
              "      <td>...</td>\n",
              "      <td>...</td>\n",
              "    </tr>\n",
              "    <tr>\n",
              "      <th>2200</th>\n",
              "      <td>46.628517</td>\n",
              "      <td>161.227572</td>\n",
              "      <td>109.779581</td>\n",
              "      <td>2.001438</td>\n",
              "      <td>9.972037</td>\n",
              "      <td>9.850361</td>\n",
              "      <td>2543.911033</td>\n",
              "      <td>6.689930</td>\n",
              "      <td>10.184515</td>\n",
              "      <td>35.313783</td>\n",
              "      <td>40.874800</td>\n",
              "      <td>38.269267</td>\n",
              "      <td>30.404733</td>\n",
              "      <td>0.550833</td>\n",
              "      <td>59.033100</td>\n",
              "      <td>2.160600</td>\n",
              "    </tr>\n",
              "    <tr>\n",
              "      <th>2201</th>\n",
              "      <td>46.689817</td>\n",
              "      <td>161.206070</td>\n",
              "      <td>109.787480</td>\n",
              "      <td>1.998781</td>\n",
              "      <td>9.966184</td>\n",
              "      <td>9.844854</td>\n",
              "      <td>2543.411333</td>\n",
              "      <td>6.692182</td>\n",
              "      <td>10.177767</td>\n",
              "      <td>35.321600</td>\n",
              "      <td>40.868883</td>\n",
              "      <td>38.268250</td>\n",
              "      <td>30.416233</td>\n",
              "      <td>0.547483</td>\n",
              "      <td>59.068000</td>\n",
              "      <td>2.151450</td>\n",
              "    </tr>\n",
              "    <tr>\n",
              "      <th>2202</th>\n",
              "      <td>46.472300</td>\n",
              "      <td>161.192120</td>\n",
              "      <td>109.756174</td>\n",
              "      <td>1.993436</td>\n",
              "      <td>9.964329</td>\n",
              "      <td>9.842629</td>\n",
              "      <td>2542.729767</td>\n",
              "      <td>6.693277</td>\n",
              "      <td>10.176172</td>\n",
              "      <td>35.319183</td>\n",
              "      <td>40.875950</td>\n",
              "      <td>38.246367</td>\n",
              "      <td>30.426250</td>\n",
              "      <td>0.545233</td>\n",
              "      <td>59.132350</td>\n",
              "      <td>2.143300</td>\n",
              "    </tr>\n",
              "    <tr>\n",
              "      <th>2203</th>\n",
              "      <td>46.544967</td>\n",
              "      <td>161.208917</td>\n",
              "      <td>109.793884</td>\n",
              "      <td>2.007077</td>\n",
              "      <td>9.968232</td>\n",
              "      <td>9.846690</td>\n",
              "      <td>2544.046333</td>\n",
              "      <td>6.684128</td>\n",
              "      <td>10.178353</td>\n",
              "      <td>35.324767</td>\n",
              "      <td>40.876067</td>\n",
              "      <td>38.245733</td>\n",
              "      <td>30.414283</td>\n",
              "      <td>0.537017</td>\n",
              "      <td>58.970800</td>\n",
              "      <td>2.148483</td>\n",
              "    </tr>\n",
              "    <tr>\n",
              "      <th>2204</th>\n",
              "      <td>46.647933</td>\n",
              "      <td>161.217128</td>\n",
              "      <td>109.792176</td>\n",
              "      <td>2.002690</td>\n",
              "      <td>9.973638</td>\n",
              "      <td>9.851949</td>\n",
              "      <td>2543.818300</td>\n",
              "      <td>6.692302</td>\n",
              "      <td>10.183393</td>\n",
              "      <td>35.322233</td>\n",
              "      <td>40.859400</td>\n",
              "      <td>38.248917</td>\n",
              "      <td>30.390800</td>\n",
              "      <td>0.546583</td>\n",
              "      <td>59.053900</td>\n",
              "      <td>2.157050</td>\n",
              "    </tr>\n",
              "  </tbody>\n",
              "</table>\n",
              "<p>2205 rows × 16 columns</p>\n",
              "</div>"
            ],
            "text/plain": [
              "             CE         PS1         PS2  ...       VS1         SE        CP\n",
              "0     39.601350  160.673492  109.466914  ...  0.576950  59.157183  1.862750\n",
              "1     25.786433  160.603320  109.354890  ...  0.565850  59.335617  1.255550\n",
              "2     22.218233  160.347720  109.158845  ...  0.576533  59.543150  1.113217\n",
              "3     20.459817  160.188088  109.064807  ...  0.569267  59.794900  1.062150\n",
              "4     19.787017  160.000472  108.931434  ...  0.577367  59.455267  1.070467\n",
              "...         ...         ...         ...  ...       ...        ...       ...\n",
              "2200  46.628517  161.227572  109.779581  ...  0.550833  59.033100  2.160600\n",
              "2201  46.689817  161.206070  109.787480  ...  0.547483  59.068000  2.151450\n",
              "2202  46.472300  161.192120  109.756174  ...  0.545233  59.132350  2.143300\n",
              "2203  46.544967  161.208917  109.793884  ...  0.537017  58.970800  2.148483\n",
              "2204  46.647933  161.217128  109.792176  ...  0.546583  59.053900  2.157050\n",
              "\n",
              "[2205 rows x 16 columns]"
            ]
          },
          "metadata": {
            "tags": []
          },
          "execution_count": 17
        }
      ]
    },
    {
      "cell_type": "code",
      "metadata": {
        "colab": {
          "base_uri": "https://localhost:8080/",
          "height": 414
        },
        "id": "F5xZTVBTJIt7",
        "outputId": "eb59c9bd-37ac-43b9-fea6-a71f04411071"
      },
      "source": [
        "y\n"
      ],
      "execution_count": 18,
      "outputs": [
        {
          "output_type": "execute_result",
          "data": {
            "text/html": [
              "<div>\n",
              "<style scoped>\n",
              "    .dataframe tbody tr th:only-of-type {\n",
              "        vertical-align: middle;\n",
              "    }\n",
              "\n",
              "    .dataframe tbody tr th {\n",
              "        vertical-align: top;\n",
              "    }\n",
              "\n",
              "    .dataframe thead th {\n",
              "        text-align: right;\n",
              "    }\n",
              "</style>\n",
              "<table border=\"1\" class=\"dataframe\">\n",
              "  <thead>\n",
              "    <tr style=\"text-align: right;\">\n",
              "      <th></th>\n",
              "      <th>InternalPumpLeakage</th>\n",
              "    </tr>\n",
              "  </thead>\n",
              "  <tbody>\n",
              "    <tr>\n",
              "      <th>0</th>\n",
              "      <td>0</td>\n",
              "    </tr>\n",
              "    <tr>\n",
              "      <th>1</th>\n",
              "      <td>0</td>\n",
              "    </tr>\n",
              "    <tr>\n",
              "      <th>2</th>\n",
              "      <td>0</td>\n",
              "    </tr>\n",
              "    <tr>\n",
              "      <th>3</th>\n",
              "      <td>0</td>\n",
              "    </tr>\n",
              "    <tr>\n",
              "      <th>4</th>\n",
              "      <td>0</td>\n",
              "    </tr>\n",
              "    <tr>\n",
              "      <th>...</th>\n",
              "      <td>...</td>\n",
              "    </tr>\n",
              "    <tr>\n",
              "      <th>2200</th>\n",
              "      <td>0</td>\n",
              "    </tr>\n",
              "    <tr>\n",
              "      <th>2201</th>\n",
              "      <td>0</td>\n",
              "    </tr>\n",
              "    <tr>\n",
              "      <th>2202</th>\n",
              "      <td>0</td>\n",
              "    </tr>\n",
              "    <tr>\n",
              "      <th>2203</th>\n",
              "      <td>0</td>\n",
              "    </tr>\n",
              "    <tr>\n",
              "      <th>2204</th>\n",
              "      <td>0</td>\n",
              "    </tr>\n",
              "  </tbody>\n",
              "</table>\n",
              "<p>2205 rows × 1 columns</p>\n",
              "</div>"
            ],
            "text/plain": [
              "      InternalPumpLeakage\n",
              "0                       0\n",
              "1                       0\n",
              "2                       0\n",
              "3                       0\n",
              "4                       0\n",
              "...                   ...\n",
              "2200                    0\n",
              "2201                    0\n",
              "2202                    0\n",
              "2203                    0\n",
              "2204                    0\n",
              "\n",
              "[2205 rows x 1 columns]"
            ]
          },
          "metadata": {
            "tags": []
          },
          "execution_count": 18
        }
      ]
    },
    {
      "cell_type": "markdown",
      "metadata": {
        "id": "se6Yo0W6JQ2o"
      },
      "source": [
        "Next importing train_ teest_split to split the traing and validation set."
      ]
    },
    {
      "cell_type": "code",
      "metadata": {
        "id": "stJh_HZltdmu"
      },
      "source": [
        "from sklearn.model_selection import train_test_split"
      ],
      "execution_count": 22,
      "outputs": []
    },
    {
      "cell_type": "code",
      "metadata": {
        "id": "Fp5aETzGtfpb"
      },
      "source": [
        "xtrain,xtest,ytrain,ytest=train_test_split(x,y,test_size=0.2)"
      ],
      "execution_count": 23,
      "outputs": []
    },
    {
      "cell_type": "code",
      "metadata": {
        "colab": {
          "base_uri": "https://localhost:8080/",
          "height": 414
        },
        "id": "2Vngek8BOsIw",
        "outputId": "238499d4-1496-436f-b62c-9d27469c7d51"
      },
      "source": [
        "xtrain"
      ],
      "execution_count": 24,
      "outputs": [
        {
          "output_type": "execute_result",
          "data": {
            "text/html": [
              "<div>\n",
              "<style scoped>\n",
              "    .dataframe tbody tr th:only-of-type {\n",
              "        vertical-align: middle;\n",
              "    }\n",
              "\n",
              "    .dataframe tbody tr th {\n",
              "        vertical-align: top;\n",
              "    }\n",
              "\n",
              "    .dataframe thead th {\n",
              "        text-align: right;\n",
              "    }\n",
              "</style>\n",
              "<table border=\"1\" class=\"dataframe\">\n",
              "  <thead>\n",
              "    <tr style=\"text-align: right;\">\n",
              "      <th></th>\n",
              "      <th>CE</th>\n",
              "      <th>PS1</th>\n",
              "      <th>PS2</th>\n",
              "      <th>PS3</th>\n",
              "      <th>PS5</th>\n",
              "      <th>PS6</th>\n",
              "      <th>EPS1</th>\n",
              "      <th>FS1</th>\n",
              "      <th>FS2</th>\n",
              "      <th>TS1</th>\n",
              "      <th>TS2</th>\n",
              "      <th>TS3</th>\n",
              "      <th>TS4</th>\n",
              "      <th>VS1</th>\n",
              "      <th>SE</th>\n",
              "      <th>CP</th>\n",
              "    </tr>\n",
              "  </thead>\n",
              "  <tbody>\n",
              "    <tr>\n",
              "      <th>782</th>\n",
              "      <td>26.284467</td>\n",
              "      <td>158.128318</td>\n",
              "      <td>107.166253</td>\n",
              "      <td>1.788949</td>\n",
              "      <td>8.969115</td>\n",
              "      <td>8.896433</td>\n",
              "      <td>2445.411467</td>\n",
              "      <td>6.645402</td>\n",
              "      <td>9.600688</td>\n",
              "      <td>47.277017</td>\n",
              "      <td>52.371283</td>\n",
              "      <td>49.444733</td>\n",
              "      <td>42.799117</td>\n",
              "      <td>0.600333</td>\n",
              "      <td>59.726383</td>\n",
              "      <td>1.719617</td>\n",
              "    </tr>\n",
              "    <tr>\n",
              "      <th>268</th>\n",
              "      <td>20.134017</td>\n",
              "      <td>156.429120</td>\n",
              "      <td>105.379299</td>\n",
              "      <td>1.691460</td>\n",
              "      <td>8.523136</td>\n",
              "      <td>8.464986</td>\n",
              "      <td>2405.285333</td>\n",
              "      <td>6.359045</td>\n",
              "      <td>9.192670</td>\n",
              "      <td>54.420250</td>\n",
              "      <td>58.908083</td>\n",
              "      <td>55.904500</td>\n",
              "      <td>49.640767</td>\n",
              "      <td>0.663833</td>\n",
              "      <td>57.508983</td>\n",
              "      <td>1.551667</td>\n",
              "    </tr>\n",
              "    <tr>\n",
              "      <th>1530</th>\n",
              "      <td>46.296133</td>\n",
              "      <td>161.016822</td>\n",
              "      <td>109.574000</td>\n",
              "      <td>2.010661</td>\n",
              "      <td>9.967379</td>\n",
              "      <td>9.846895</td>\n",
              "      <td>2543.339000</td>\n",
              "      <td>6.683375</td>\n",
              "      <td>10.157742</td>\n",
              "      <td>35.391267</td>\n",
              "      <td>41.008267</td>\n",
              "      <td>38.362817</td>\n",
              "      <td>30.554850</td>\n",
              "      <td>0.568350</td>\n",
              "      <td>58.899150</td>\n",
              "      <td>2.136133</td>\n",
              "    </tr>\n",
              "    <tr>\n",
              "      <th>846</th>\n",
              "      <td>26.287783</td>\n",
              "      <td>158.313765</td>\n",
              "      <td>107.330912</td>\n",
              "      <td>1.790952</td>\n",
              "      <td>8.996815</td>\n",
              "      <td>8.920623</td>\n",
              "      <td>2449.703400</td>\n",
              "      <td>6.635187</td>\n",
              "      <td>9.615922</td>\n",
              "      <td>46.702300</td>\n",
              "      <td>51.792017</td>\n",
              "      <td>48.905733</td>\n",
              "      <td>42.306967</td>\n",
              "      <td>0.599633</td>\n",
              "      <td>59.596350</td>\n",
              "      <td>1.710783</td>\n",
              "    </tr>\n",
              "    <tr>\n",
              "      <th>305</th>\n",
              "      <td>20.481067</td>\n",
              "      <td>156.947753</td>\n",
              "      <td>105.764658</td>\n",
              "      <td>1.749061</td>\n",
              "      <td>8.485503</td>\n",
              "      <td>8.428560</td>\n",
              "      <td>2393.422033</td>\n",
              "      <td>6.575555</td>\n",
              "      <td>9.154605</td>\n",
              "      <td>54.851867</td>\n",
              "      <td>59.429883</td>\n",
              "      <td>56.341967</td>\n",
              "      <td>49.939250</td>\n",
              "      <td>0.683850</td>\n",
              "      <td>60.002233</td>\n",
              "      <td>1.577383</td>\n",
              "    </tr>\n",
              "    <tr>\n",
              "      <th>...</th>\n",
              "      <td>...</td>\n",
              "      <td>...</td>\n",
              "      <td>...</td>\n",
              "      <td>...</td>\n",
              "      <td>...</td>\n",
              "      <td>...</td>\n",
              "      <td>...</td>\n",
              "      <td>...</td>\n",
              "      <td>...</td>\n",
              "      <td>...</td>\n",
              "      <td>...</td>\n",
              "      <td>...</td>\n",
              "      <td>...</td>\n",
              "      <td>...</td>\n",
              "      <td>...</td>\n",
              "      <td>...</td>\n",
              "    </tr>\n",
              "    <tr>\n",
              "      <th>26</th>\n",
              "      <td>18.268217</td>\n",
              "      <td>158.265087</td>\n",
              "      <td>107.516762</td>\n",
              "      <td>1.731176</td>\n",
              "      <td>8.796409</td>\n",
              "      <td>8.727124</td>\n",
              "      <td>2432.505433</td>\n",
              "      <td>6.634792</td>\n",
              "      <td>9.574230</td>\n",
              "      <td>49.318750</td>\n",
              "      <td>53.870583</td>\n",
              "      <td>50.721200</td>\n",
              "      <td>45.496317</td>\n",
              "      <td>0.637733</td>\n",
              "      <td>60.216483</td>\n",
              "      <td>1.348583</td>\n",
              "    </tr>\n",
              "    <tr>\n",
              "      <th>1807</th>\n",
              "      <td>47.205000</td>\n",
              "      <td>160.257223</td>\n",
              "      <td>109.049591</td>\n",
              "      <td>1.917019</td>\n",
              "      <td>9.836545</td>\n",
              "      <td>9.721129</td>\n",
              "      <td>2561.439233</td>\n",
              "      <td>6.428560</td>\n",
              "      <td>10.168903</td>\n",
              "      <td>36.300550</td>\n",
              "      <td>41.916250</td>\n",
              "      <td>39.184433</td>\n",
              "      <td>31.336100</td>\n",
              "      <td>0.538733</td>\n",
              "      <td>55.998133</td>\n",
              "      <td>2.150450</td>\n",
              "    </tr>\n",
              "    <tr>\n",
              "      <th>2008</th>\n",
              "      <td>46.954600</td>\n",
              "      <td>160.567967</td>\n",
              "      <td>109.122744</td>\n",
              "      <td>1.932686</td>\n",
              "      <td>9.838475</td>\n",
              "      <td>9.724334</td>\n",
              "      <td>2548.211467</td>\n",
              "      <td>6.515650</td>\n",
              "      <td>10.147368</td>\n",
              "      <td>36.271367</td>\n",
              "      <td>41.864183</td>\n",
              "      <td>39.144383</td>\n",
              "      <td>31.286117</td>\n",
              "      <td>0.534433</td>\n",
              "      <td>57.150633</td>\n",
              "      <td>2.147883</td>\n",
              "    </tr>\n",
              "    <tr>\n",
              "      <th>1698</th>\n",
              "      <td>47.540750</td>\n",
              "      <td>160.507947</td>\n",
              "      <td>109.139517</td>\n",
              "      <td>1.921993</td>\n",
              "      <td>9.942519</td>\n",
              "      <td>9.823480</td>\n",
              "      <td>2578.800700</td>\n",
              "      <td>6.429530</td>\n",
              "      <td>10.205947</td>\n",
              "      <td>35.710050</td>\n",
              "      <td>41.245517</td>\n",
              "      <td>38.587667</td>\n",
              "      <td>30.651233</td>\n",
              "      <td>0.536467</td>\n",
              "      <td>55.650983</td>\n",
              "      <td>2.180317</td>\n",
              "    </tr>\n",
              "    <tr>\n",
              "      <th>991</th>\n",
              "      <td>27.218900</td>\n",
              "      <td>158.361402</td>\n",
              "      <td>106.759733</td>\n",
              "      <td>1.743536</td>\n",
              "      <td>9.045657</td>\n",
              "      <td>8.968599</td>\n",
              "      <td>2465.182600</td>\n",
              "      <td>6.412112</td>\n",
              "      <td>9.644463</td>\n",
              "      <td>45.963117</td>\n",
              "      <td>50.794817</td>\n",
              "      <td>48.105983</td>\n",
              "      <td>41.483067</td>\n",
              "      <td>0.636200</td>\n",
              "      <td>56.556567</td>\n",
              "      <td>1.720600</td>\n",
              "    </tr>\n",
              "  </tbody>\n",
              "</table>\n",
              "<p>1764 rows × 16 columns</p>\n",
              "</div>"
            ],
            "text/plain": [
              "             CE         PS1         PS2  ...       VS1         SE        CP\n",
              "782   26.284467  158.128318  107.166253  ...  0.600333  59.726383  1.719617\n",
              "268   20.134017  156.429120  105.379299  ...  0.663833  57.508983  1.551667\n",
              "1530  46.296133  161.016822  109.574000  ...  0.568350  58.899150  2.136133\n",
              "846   26.287783  158.313765  107.330912  ...  0.599633  59.596350  1.710783\n",
              "305   20.481067  156.947753  105.764658  ...  0.683850  60.002233  1.577383\n",
              "...         ...         ...         ...  ...       ...        ...       ...\n",
              "26    18.268217  158.265087  107.516762  ...  0.637733  60.216483  1.348583\n",
              "1807  47.205000  160.257223  109.049591  ...  0.538733  55.998133  2.150450\n",
              "2008  46.954600  160.567967  109.122744  ...  0.534433  57.150633  2.147883\n",
              "1698  47.540750  160.507947  109.139517  ...  0.536467  55.650983  2.180317\n",
              "991   27.218900  158.361402  106.759733  ...  0.636200  56.556567  1.720600\n",
              "\n",
              "[1764 rows x 16 columns]"
            ]
          },
          "metadata": {
            "tags": []
          },
          "execution_count": 24
        }
      ]
    },
    {
      "cell_type": "code",
      "metadata": {
        "id": "RKismpJCtgkM"
      },
      "source": [
        "from sklearn.tree import DecisionTreeClassifier"
      ],
      "execution_count": 25,
      "outputs": []
    },
    {
      "cell_type": "code",
      "metadata": {
        "id": "SL1fgrP0tggl"
      },
      "source": [
        "model1=DecisionTreeClassifier()"
      ],
      "execution_count": 26,
      "outputs": []
    },
    {
      "cell_type": "code",
      "metadata": {
        "colab": {
          "base_uri": "https://localhost:8080/"
        },
        "id": "R4OPQbH5QY5O",
        "outputId": "6e427cf6-e8a6-4fb4-df4a-ebdbd57b5bb3"
      },
      "source": [
        "model1.fit(xtrain,ytrain)"
      ],
      "execution_count": 27,
      "outputs": [
        {
          "output_type": "execute_result",
          "data": {
            "text/plain": [
              "DecisionTreeClassifier(ccp_alpha=0.0, class_weight=None, criterion='gini',\n",
              "                       max_depth=None, max_features=None, max_leaf_nodes=None,\n",
              "                       min_impurity_decrease=0.0, min_impurity_split=None,\n",
              "                       min_samples_leaf=1, min_samples_split=2,\n",
              "                       min_weight_fraction_leaf=0.0, presort='deprecated',\n",
              "                       random_state=None, splitter='best')"
            ]
          },
          "metadata": {
            "tags": []
          },
          "execution_count": 27
        }
      ]
    },
    {
      "cell_type": "code",
      "metadata": {
        "id": "tpNEevwHQzgx"
      },
      "source": [
        "model1_output=model1.predict(xtest)"
      ],
      "execution_count": 28,
      "outputs": []
    },
    {
      "cell_type": "code",
      "metadata": {
        "colab": {
          "base_uri": "https://localhost:8080/"
        },
        "id": "H43YmtMMRbZc",
        "outputId": "f1cf00f8-224d-4b1a-e062-66c6834370da"
      },
      "source": [
        "model1_output"
      ],
      "execution_count": 29,
      "outputs": [
        {
          "output_type": "execute_result",
          "data": {
            "text/plain": [
              "array([1, 2, 0, 2, 2, 2, 2, 2, 0, 0, 0, 0, 0, 2, 1, 2, 0, 1, 0, 1, 1, 0,\n",
              "       1, 0, 0, 1, 0, 0, 2, 1, 0, 1, 0, 0, 0, 2, 0, 2, 0, 1, 0, 2, 0, 2,\n",
              "       0, 1, 2, 0, 0, 2, 1, 2, 2, 1, 0, 0, 2, 0, 2, 1, 0, 0, 1, 2, 0, 0,\n",
              "       0, 2, 2, 2, 0, 0, 2, 1, 1, 0, 0, 0, 0, 0, 2, 1, 2, 0, 0, 1, 0, 0,\n",
              "       1, 2, 0, 0, 0, 0, 2, 0, 1, 1, 2, 0, 0, 1, 0, 0, 0, 0, 2, 2, 2, 0,\n",
              "       0, 0, 1, 2, 2, 0, 1, 1, 1, 2, 0, 0, 2, 0, 0, 1, 1, 0, 0, 1, 2, 2,\n",
              "       0, 0, 0, 0, 2, 0, 0, 0, 1, 0, 0, 0, 0, 0, 0, 2, 0, 0, 0, 1, 0, 0,\n",
              "       0, 1, 0, 0, 0, 0, 1, 2, 0, 0, 1, 1, 0, 1, 0, 0, 1, 0, 0, 1, 0, 0,\n",
              "       0, 1, 0, 2, 0, 2, 2, 1, 1, 1, 0, 1, 1, 1, 0, 0, 1, 0, 2, 0, 0, 2,\n",
              "       0, 2, 0, 0, 2, 0, 2, 0, 0, 0, 2, 1, 0, 1, 1, 1, 2, 2, 1, 0, 0, 0,\n",
              "       0, 0, 0, 0, 0, 0, 0, 0, 0, 0, 1, 2, 2, 2, 1, 0, 0, 2, 1, 0, 0, 1,\n",
              "       0, 0, 1, 0, 0, 2, 2, 2, 0, 0, 2, 1, 0, 2, 2, 0, 2, 0, 1, 2, 0, 0,\n",
              "       0, 0, 0, 0, 0, 0, 0, 0, 0, 2, 1, 0, 0, 2, 2, 0, 0, 0, 0, 0, 0, 0,\n",
              "       1, 0, 0, 0, 0, 0, 0, 0, 0, 1, 2, 2, 0, 0, 0, 2, 2, 0, 0, 1, 2, 0,\n",
              "       0, 0, 1, 2, 0, 0, 2, 0, 2, 0, 0, 2, 1, 1, 0, 2, 2, 1, 2, 1, 1, 1,\n",
              "       1, 2, 0, 0, 0, 2, 2, 0, 0, 1, 0, 1, 0, 0, 2, 0, 2, 0, 0, 1, 1, 0,\n",
              "       2, 2, 0, 0, 2, 2, 0, 2, 0, 0, 0, 0, 0, 0, 1, 0, 2, 1, 1, 0, 1, 1,\n",
              "       0, 2, 0, 2, 0, 0, 0, 0, 2, 0, 2, 0, 0, 0, 0, 0, 1, 0, 2, 2, 2, 2,\n",
              "       0, 0, 1, 0, 2, 2, 2, 0, 2, 1, 0, 1, 1, 1, 0, 1, 2, 1, 0, 1, 0, 0,\n",
              "       0, 0, 0, 0, 1, 0, 2, 1, 0, 2, 0, 2, 0, 0, 0, 2, 0, 2, 2, 2, 2, 0,\n",
              "       0])"
            ]
          },
          "metadata": {
            "tags": []
          },
          "execution_count": 29
        }
      ]
    },
    {
      "cell_type": "code",
      "metadata": {
        "id": "UzXBIZS5Rprh"
      },
      "source": [
        "from sklearn.metrics import accuracy_score"
      ],
      "execution_count": 35,
      "outputs": []
    },
    {
      "cell_type": "code",
      "metadata": {
        "id": "sG8r_fnGR6jO"
      },
      "source": [
        "acc1=accuracy_score(model1_output,ytest)"
      ],
      "execution_count": 36,
      "outputs": []
    },
    {
      "cell_type": "code",
      "metadata": {
        "colab": {
          "base_uri": "https://localhost:8080/"
        },
        "id": "2L9kLWEBR_eG",
        "outputId": "ca78ce0a-2c74-46e2-ed63-d458922e72d5"
      },
      "source": [
        "acc1 #accuracy for InternalPumpLeakage"
      ],
      "execution_count": 37,
      "outputs": [
        {
          "output_type": "execute_result",
          "data": {
            "text/plain": [
              "0.9750566893424036"
            ]
          },
          "metadata": {
            "tags": []
          },
          "execution_count": 37
        }
      ]
    },
    {
      "cell_type": "code",
      "metadata": {
        "id": "wCF2ZEauLvJd",
        "colab": {
          "base_uri": "https://localhost:8080/"
        },
        "outputId": "ee2f19c8-471a-44cd-ca4b-ae95685ac1b2"
      },
      "source": [
        "model1.predict([[39.601350,160.673492,109.466914,1.991475,9.842170,9.728098,2538.929167,6.709815,10.304592,35.621983,40.978767,38.471017,31.745250,0.576950,59.157183,1.862750]])"
      ],
      "execution_count": 38,
      "outputs": [
        {
          "output_type": "execute_result",
          "data": {
            "text/plain": [
              "array([0])"
            ]
          },
          "metadata": {
            "tags": []
          },
          "execution_count": 38
        }
      ]
    }
  ]
}